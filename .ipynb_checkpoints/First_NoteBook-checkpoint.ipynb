{
 "cells": [
  {
   "cell_type": "markdown",
   "id": "b65eb0fe",
   "metadata": {
    "hide_input": false,
    "slideshow": {
     "slide_type": "slide"
    }
   },
   "source": [
    "# Heading 1\n",
    "# Heading 2\n",
    "## Heading 2.1\n",
    "## Heading 2.2\n",
    "### Heading "
   ]
  },
  {
   "cell_type": "code",
   "execution_count": 9,
   "id": "ac10fce2",
   "metadata": {
    "ExecuteTime": {
     "end_time": "2022-07-23T22:37:31.799265Z",
     "start_time": "2022-07-23T22:37:31.791344Z"
    },
    "slideshow": {
     "slide_type": "slide"
    }
   },
   "outputs": [
    {
     "name": "stdout",
     "output_type": "stream",
     "text": [
      "Hello!!\n"
     ]
    }
   ],
   "source": [
    "print(\"Hello!!\")"
   ]
  },
  {
   "cell_type": "code",
   "execution_count": 10,
   "id": "1390b746",
   "metadata": {
    "ExecuteTime": {
     "end_time": "2022-07-23T22:37:34.039801Z",
     "start_time": "2022-07-23T22:37:34.032794Z"
    },
    "hide_input": false,
    "slideshow": {
     "slide_type": "slide"
    }
   },
   "outputs": [
    {
     "data": {
      "text/html": [
       "<font size=6 color='blue'>Hello Jupyter</font>\n"
      ],
      "text/plain": [
       "<IPython.core.display.HTML object>"
      ]
     },
     "metadata": {},
     "output_type": "display_data"
    }
   ],
   "source": [
    "%%html \n",
    "<font size=6 color='blue'>Hello Jupyter</font>"
   ]
  },
  {
   "cell_type": "code",
   "execution_count": 12,
   "id": "b99796f1",
   "metadata": {
    "ExecuteTime": {
     "end_time": "2022-07-23T22:55:41.944394Z",
     "start_time": "2022-07-23T22:55:41.933919Z"
    },
    "slideshow": {
     "slide_type": "slide"
    }
   },
   "outputs": [
    {
     "data": {
      "application/javascript": [
       "function add(x,y)\n",
       "{\n",
       "var z = x+y;\n",
       "alert(\"x+y=\"+z.toString());\n",
       "}\n",
       "add(10,20)\n"
      ],
      "text/plain": [
       "<IPython.core.display.Javascript object>"
      ]
     },
     "metadata": {},
     "output_type": "display_data"
    }
   ],
   "source": [
    "%%js\n",
    "function add(x,y)\n",
    "{\n",
    "var z = x+y;\n",
    "alert(\"x+y=\"+z.toString());\n",
    "}\n",
    "add(10,20)"
   ]
  },
  {
   "cell_type": "code",
   "execution_count": 14,
   "id": "a8df481d",
   "metadata": {
    "ExecuteTime": {
     "end_time": "2022-07-23T23:01:45.606736Z",
     "start_time": "2022-07-23T23:01:45.459327Z"
    }
   },
   "outputs": [
    {
     "data": {
      "text/plain": [
       "Text(0, 0.5, 'sine')"
      ]
     },
     "execution_count": 14,
     "metadata": {},
     "output_type": "execute_result"
    },
    {
     "data": {
      "application/vnd.jupyter.widget-view+json": {
       "model_id": "d12eda099db14e2d8ddf74a986872002",
       "version_major": 2,
       "version_minor": 0
      },
      "image/png": "[encoded data removed]",
      "text/html": [
       "\n",
       "            <div style=\"display: inline-block;\">\n",
       "                <div class=\"jupyter-widgets widget-label\" style=\"text-align: center;\">\n",
       "                    Figure\n",
       "                </div>\n",
       "                <img src='data:image/png;base64,iVBORw0KGgoAAAANSUhEUgAAAbAAAAEgCAYAAADVKCZpAAAABHNCSVQICAgIfAhkiAAAAAlwSFlzAAALEgAACxIB0t1+/AAAADh0RVh0U29mdHdhcmUAbWF0cGxvdGxpYiB2ZXJzaW9uMy4xLjIsIGh0dHA6Ly9tYXRwbG90bGliLm9yZy8li6FKAAAgAElEQVR4nO3dZ2BUVd4G8GdqJpNKeiF9QkLovQsEUCwsiGIviCIK2Nu6rqurqGtjUYqIim0VWcWGIAiEIk16T2+kZ9L7JDNz3w8s++66FsrMnHtnnt9XZc4Dah7/d849RxUcHCzFx8eDiIhISbTx8fE4cOCA6BxERETnRS06ABER0YVggRERkSKxwIiISJFYYEREpEgsMCIiUiQWGBERKRILjIiIFIkFRkREisQCIyIiRWKBERGRImlFB6CLU9XUgRNljSitb0d1cwfMzRa0dtqgUamgVgHeei0iAwyICDAgppsRfboHwNeL/9iJSPm0ZrNZdAY6D9XNHcjIrEZGVjUOlzTA3Gz591/TqFUI8dXDx0sLSQLskoRWixU1LZ3//ntUKqBHmB8GxgViQmo4RieHwKDTiPitEBFdFG1oaKjoDPQ7Wi1WfHu0HKv3l+BISQMAIDrQG2NMIegdHYA+3QOQEOKDIKMearXqf359R5cNVU0dKKhpxdGSBhwpacB3xyqwal8JfPQajEsNw3WDYzDGFPKLv56ISI5UgwYNkngavTydrm3DOz8W4KvDZWixWJEa4Yer+kZiYlo4UsL9oFJdeNl0Wu3YW1CLDScrsfFEJWpbO5EY4oNbR8RhxuAYPmYkItljgclQSV0blm7NwxcHS6FWq3BV30jcPCwOA2MDL6q0fo3FasOGE5X4cHcRDp1uQJCPHnPHJeGW4XF8vEhEssUCk5EWixVvbM7BB7uLoIIKNw2Lxb3jkhDub3BZhsOn6/H6DznYmVeDyAADHr00BdMHRjulOImILgYLTAYkScK64xV4/rtTqGqy4PrBMXhwUjIiA7yFZdqdV4OXN2bjaEkDhicG4YWr+yAp1FdYHiKin2OBCVbTYsEf1xzD5sxqpEX6Y8HVvTEwtpvoWAAAu13Cqv2n8bfvs2DpsuO+dBPmjjdBw40eRCQDLDCBtmZV47EvjqKpw4rHL0vBzJHx0Grk9255dXMH/rr2FNYdq8DQ+CD8/Yb+iA4UNx0SEQEsMCG6bHa8tD4LK3cVIjXCD4tu6I/UCH/RsX7Xl4dK8fTXJ6BRq/DKtX0xuXek6EhE5MHk97/7bq62xYJb3v0JK3cV4o5R8fh63ihFlBcATB/YHesfGIOEUF/c849DeG1jNux2SXQsIvJQfNnHhU6UNWLOxwdR02LBouv7Y9qAaNGRzltcsA8+nzMCT399Aku25iG7qhl/v74/3xsjIpfjBOYiW7OqMWP5HgDAmntHKrK8ztJr1fjbNX3w7JQ0ZGRV45plu1HR2C46FhF5GBaYC3x+oAR3fXQApjBffD1vFHpHB4iOdNFUKhVmjkrAh3cMRVlDO65Ztht51S2iYxGRB2GBOdmybXl47ItjGJkUjFV3D0eon5foSA41OjkEn909HJ02O2Ys3/3vsxqJiJyNBeYkkiRh4Q/ZeGVDNqb1j8J7tw9x2++JekcH4It7RsLXoMVN7+zFTwW1oiMRkQdggTmBJEl4/YccvJmRhxuGxGDhdf2h17r3H3V8iA/W3DMSUYHeuOOD/dhXWCc6EhG5Off+qSqAJEl4ZWM2lmzNw41DY/Di1X085oqSMH8DPp09DJEBBsx8fx/2F7HEiMh5WGAOtiQjD29ty8dNw2LxwjTPKa+zwvwMWDV7OCICDJi5ch8Ona4XHYmI3BQLzIE+3luM1zflYPqAaCyY2tvjyuusMH8DPpt9ZsPKrA/2I7eqWXQkInJDLDAH+fZoOf7yzQlM7BmGl6/t67HldVaYvwEf3zkMOo0at63ch/IGvidGRI7FAnOAXXk1eHj1EQyJD8KSmwZCJ8MDeUWICTLio1lD0WKx4tb3fkJda6foSETkRviT9iLlVjXjnn8cRFKoL969fTBvMP6ZnpH+eO/2ISitb8ecjw/AYrWJjkREboIFdhFqWiy444P98NJq8N7MwfA36ERHkqWhCUF4/bp+2F9Ujye/PA5J4gHARHTx3PPNWhfo6LJh9kcHUNNiweq7R6B7N6PoSLJ2Vd8oFJhbsXBTDpJCfTFvvEl0JCJSOBbYBZAkCU9+eRxHShrw1s0D0S8mUHQkRbgv3YQCcwte3ZiNhBAfXNGH94kR0YXjI8QL8P6uInx1uAwPT+zBSx3Pg0qlwt+u6YuBsYF49POjyOH2eiK6CCyw87Q7vwYvrM/EpWnhfAx2AQw6Dd66ZRCMei3mfHwQTR1doiMRkUKxwM5DWUM75n96GPHBRrx+XT+Pf9frQoX7G7Ds5oEoqWvDw6uP8lZnIrogLLBz1Gm1Y+4nh9BltWPFbYPhxx2HF2VoQhD+fGVPbM6swrJteaLjEJECscDO0SsbsnC0pAEvX9sXSaG+ouO4hdtHxmNq/ygs3JSDvbyChYjOEwvsHGw6VYV3dxbi9hFx3DnnQCqVCi9c3QfxwT544LPDqG2xiI5ERArCAvsdpfVtePTzo+gd7Y8/XdlTdBy34+ulxeKbBqC+rQuPfM7vw4jo3LHAfoPVZscDnx2B3S5h6U0D4aXlMVHO0CsqAE9f2RPbss1Y8WOB6DhEpBBqs9ksOoNsLd2aj4PF9VhwdW/EBfuIjuPWbhkeh8t7R+C1jdk4XtooOg4RKYA6NDRUdAZZOnS6Hm9m5GJa/yhM7R8tOo7bU6lUeGl6H4T4euGB1YfR3slDf4not/ER4i9osVjx0OojiPA34LlpvUXH8RiBRj1ev64fCsyteOn7TNFxiEjmWGC/4Pm1p1BS14a/X9+fJ8y72ChTCO4cnYCP9hRja3a16DhEJGMssJ/JyKrC6gMlmDM2CUMTgkTH8UiPXZaClHA/PPb5MdTzEkwi+hUssP/Q2NaFP645jpRwPzw4MVl0HI9l0Gnw9+v7o6GtE8+uPSk6DhHJFAvsP/x17UnUtnbi9ev6ccu8YGlR/pifbsI3R8qx8WSl6DhEJEMssH/54WQlvjxchnnjTegdHSA6DgGYN96EtEh/PPXVCTS08VEiEf03FhiAhrZO/OmrE0iL9Md8XpEiGzqNGq/O6HvmUeK3fJRIRP+NBQbgxfWZqG/rxKsz+kKv5R+JnPSKCsD8dBO+PlKOLZlVouMQkYx4/E/rXXk1+OeBUtx9SSJ6RfHRoRzNHWdCSrgf/vz1CbRYrKLjEJFMeHSBtXfa8KevjiM+2IgHJnDXoVzptWq8dE0fVDZ14LWN2aLjEJFMeHSBLdqSg+LaNrw4vQ8MOu46lLOBsd1w2/A4fLinCIdO14uOQ0Qy4LEFdrK8Ee/+WIgbhsRgZFKI6Dh0Dh6bnIoIfwOeXHMcnVa76DhEJJhHFpjdLuGpr04g0FuHJy/nHV9K4eulxfNTeyO7qhnv8NoVIo/nkQW2av9pHClpwJ+v6okAI886VJKJaeG4rFc4FmfkorS+TXQcIhLI4wqspsWCl7/PwojEYEzjNSmK9JcpvaCCCs9+e0p0FCISyOMK7MV1mWjvsuH5ab2hUqlEx6ELEB3ojQcnJmNzZhU2neK7YUSeyqMKbG9BLb48XIY5lyTBFOYrOg5dhFmjE5Ac5otnvz3Jyy+JPJTHFJjVZscz35xEdKA35vG4KMXTadRYMK03yhrasWRrrug4RCSAxxTYx3uLkV3VjKevSoO3nu98uYNhicG4ekA03tlRiOLaVtFxiMjFPKLAalosWLgpB2OSQ3BZr3DRcciB/nh5KnQaFZ7/jhs6iDyNRxTYqxuy0d5pwzNTenHjhpsJ9zfgvgnJ2JxZja3Z1aLjEJELuX2BHS1pwD8PlmDW6ARu3HBTd4yKR0KID55be4ondBB5ELcuMEmS8Ne1JxHs44X70rlxw115aTX4y5Q0FNa0YuWuQtFxiMhF3LrAvj1ajkOnG/D4ZSnwM/DEDXc2PiUME1LDsCQjD+Zmi+g4ROQCbltg7Z02/O37LPSK8se1g7qLjkMu8Kcre6Kjy4aFm3jlCpEncNsCW7GjABWNHXhmSi+o1dy44QmSQn1x64g4rN5fglPlTaLjEJGTuWWBVTS2Y/n2fFzZJxJDE4JExyEXemBCMvy9dViw7hQkSRIdh4icyC0L7NUN2bBJEv54earoKORigUY9HprYA7vza7E5k9vqidyZ2xXYibJGfHm4DLNGJSAmyCg6Dglw07BYmMJ88eL6THTZuK2eyF25VYFJkoQF606hm1GHueOTRMchQXQaNZ68PBWFNa349KfTouMQkZO4VYFlZFVjb0EdHpzYA/7cNu/R0lPDMDwxCG9syUVTR5foOETkBGqz2Sw6g0NYbXa8uD4TiSE+uGlYrOg4JJhKpcJTV6ShrrUTb23LFx2HiJxAHRoaKjqDQ3y2vwT55tZ/He7qVoMlXaA+3QMwrX8UVu4sRHlDu+g4RORgbvGTvtVixaLNuRgaH4RJaTxtnv7fo5elQALw2ka+3EzkbtyiwN79sRA1LRb88YpUnjZP/6V7NyPuGBmPr46U8eVmIjej+AKrabFgxY58TO4VgYGx3UTHIRmaO84EPy8tXtmYJToKETmQ4gtsSUYeOqx2PDY5RXQUkqkAow5zx5uwLduMPfm1ouMQkYMousCKa1vxyU/FuH5IDJJCedcX/bqZI+MR4W/A3zZk8YgpIjeh6AJ77YccaNVqPDghWXQUkjmDToOHJ/XA0ZIGbDxZKToOETmAYgvsZHkj1h4tx6zR8QjzN4iOQwowfWA0TGG+eGVjNqw8YopI8RRbYK9tzEaAtw53X8Ijo+jcaDVqPHZZCgrMrfjyUJnoOER0kRRZYPuL6rA124x7xiYhwJtHRtG5uzQtHP1iArFocw46umyi4xDRRVBcgUmShFc2ZCHMzwszR8aLjkMKo1Kp8PhlKShv7OBBv0QKp7gC25Ztxv6ietw3IRneeo3oOKRAo0whGJkUjKVb89BqsYqOQ0QXSFEFZrdLeHVjNmKCvHH94BjRcUjBHrssBbWtnVi5s1B0FCK6QIoqsA0nK3GqogkPTewBvVZR0UlmBsR2w6S0cKzYUYCGtk7RcYjoAiimBWx2CQs35cAU5oup/aNFxyE38MilPdDSacWKHQWioxDRBVBMgX1zpAx51S14eFIPaNQ8sJcuXmqEP6b0jcL7u4pQ02IRHYeIzpMiCqzLZseizblIi/TH5F4RouOQG3lgYjIsVhsvvSRSIEUU2BcHS3G6rg2PXNoDak5f5EBJob6YPrA7/rG3GJWNHaLjENF5kH2BWaw2LN6SiwGxgUhPDRMdh9zQAxOSYbNLWLo1T3QUIjoPsi+w1ftLUN7YgUcmpfCySnKKmCAjrhsSg8/2n0ZJXZvoOER0jmRdYB1dNizdmoeh8UEYZQoWHYfc2H3pJqig4hRGpCCyLrBPfzqNqiYLHprUg9MXOVVkgDduHBqDLw6WcgojUgjZFlh7pw1vbc/HiMRgjEji9EXON3e8CWq1CoszckVHIaJzINsC++SnYpibz0xfRK4Q7m/AzcNiseZQGYpqWkXHIaLfIcsCa+u04q1t+RhtCsHQhCDRcciD3Ds2CVq1Cosz+F0YkdzJssD+sbcYta2deGhSsugo5GHC/A24dXgcvjpcikJOYUSyJrsCa+u04u3tBRiTHIJBcZy+yPXmjE2CXqvG4i38LoxIzmRXYGenrwcncvoiMUL9vHDr8Dh8faSMUxiRjMmqwDh9kVzcfcmZKWwJvwsjki1ZFdgne0+jtrUTD0zg9EVihfp54eZhZ6Yw7kgkkifZFFhbpxVv7ziz83BwPKcvEm/O2ERo1Sos4ekcRLKkNpvNojMAOHPqRk1LJx7gd18kE2F+Btw8LA5fHS5DcS2nMCK5UYeGhorOgI4uG5ZvL8AoUzCGcPoiGbnn7BTG78KIZEcWjxBX7TuNmhYL7k/n9EXyEuZvwI1DY/HV4TKekUgkM8IL7Mz0lY9hCUEYlsgzD0l+7hmbBLVKhWW8tZlIVoQX2OcHSlDVZOHOQ5KtiAADrhvSHV8cLEFZQ7voOET0L0ILzGK1Ydm2fAyO68YT50nW7h1nAgC8vZ1TGJFcCC2wNQfLUNHYgfsnJPO+L5K16EBvXDuoOz7bV4LKxg7RcYgIAgusy2bHsm156BcTiDHJIaJiEJ2ze8eaYJMkvL2DUxiRHAgrsK8Pl6G0vh33p5s4fZEixAYbcfWAaHz602mYmy2i4xB5PCEFZrNLWLYtH2mR/khPDRMRgeiCzB2XhC6bHe/uLBAdhcjjCSmw746Vo7CmFfdx+iKFSQz1xVV9o/DxnmLUt3aKjkPk0VxeYHa7hCUZeegR7ovLekW4enmiizY/3YS2ThtW7ioUHYXIo7m8wDaerERudQvmjTdBreb0RcrTI9wPk3tF4INdRWhs7xIdh8hjubTAJEnC4ow8JIT44Kq+Ua5cmsih5qeb0Gyx4qPdRaKjEHkslxbY1uxqnKpowtxxSdBw+iIF6x0dgAmpYXhvVyFaLVbRcYg8kssKTJIkvLklD9GB3pg2INpVyxI5zbx0ExrauvDJT8WioxB5JJcV2O78WhwpacC945Kg0wg/gpHoog2M7YbRphCs2FGIji6b6DhEHsdlTbIkIw/h/l64dlB3Vy1J5HTz002oabHgnwdKREch8jguKbADRXXYU1CLuy9JgkGnccWSRC4xLCEIQ+K7Yfm2fHRa7aLjEHkUlxTYkq15CPbR48ahMa5YjshlVCoV5qcno7yxA18fLhMdh8ijOL3Ajpc2Ylu2GbNGJ8Co1zp7OSKXuyQ5BH2iA7BsWx6sNk5hRK7i9AJbujUP/gYtbhsR5+yliIQ4M4WZUFTbhnXHK0THIfIYTi2wnKpmbDhZiZkj4+Fn0DlzKSKhJvUMR49wXyzdmge7XRIdh8gjOLXAlm3Ng1GvwR2jEpy5DJFwarUK88abkFPVgk2ZVaLjEHkEpxVYcW0rvj1ajpuHxaKbj95ZyxDJxpV9IhEXbMTSrXmQJE5hRM7mtAJbvj0fWo0as8ckOmsJIlnRatS4d2wSjpU2Ykdujeg4RG7PKQVW0diOLw6W4rrB3RHmb3DGEkSyNH1gd0QGGLA0I090FCK355QCW7GjAHYJmHNJkjM+nki29Fo17r4kEfuK6rCvsE50HCK35vACq2mxYNW+05jWPxoxQUZHfzyR7N0wJBbBPnos2copjMiZHF5gK3cWwmK1Y+54Tl/kmbz1Gtw5JgE7csw4VtogOg6R23JogTW2d+HjPcW4onckkkJ9HfnRRIpy6/A4+Bu0WMopjMhpHFpgH+8pQrPFyumLPJ6fQYeZI+Ox8WQVcqqaRcchcksOK7C2Tive21mI9NQw9IoKcNTHEinWHaMSYNRr8Na2fNFRiNyS2mw2O+SDals6kRzmh3njTQ75PCKl6+ajx01DY/Ht0XIU17aKjkPkdtShoaEO+aCYICP+ec8IDIrr5pDPI3IHsy9JhEalwvLtBaKjELkdl93ITOSJwv0NmDG4O9YcLEVlY4foOERuhQVG5GT3jE2CTZKwYgenMPJcVU0dWLmzEO2dNod9JguMyMligoyY2j8Kn+4rRm2LRXQcIiHe2VGAF9ZnwtzsuP8GWGBELjB3nAkWqx0rdxWKjkLkcnWtnfjkp9P4Q78oxAY77oQmFhiRC5jCfHF57wh8tLsYje1douMQudT7uwrR3mXD3HGOfUeYBUbkInPHmdBsseLjPUWioxC5TFNHFz7YXYTJvSKQHO7n0M9mgRG5SO/oAIxPCcV7OwvR1mkVHYfIJT7eU4zmDqtT3hFmgRG50Px0E+rbuvDpT6dFRyFyurMnNI3tEYo+3R1/QhMLjMiFBsUFYURiMFbsKEBHl+O2ExPJ0ap9Jahr7cT8dOec0MQCI3Kx+ekmVDdb8MXBUtFRiJzGYrVhxY58DE0IwpD4IKeswQIjcrGRScHoHxOI5dvz0WWzi45D5BRfHCxFVZMF96cnO20NFhiRi6lUKtyXbkJpfTu+OVIuOg6Rw3XZ7HhrWz76xQRilCnYaeuwwIgESE8NQ89IfyzblgebXRIdh8ihvj1SjtL6dtw33gSVSuW0dVhgRAKoVCrMH29CgbkV35+oEB2HyGFsdgnLtuWhZ6Q/JvQMc+paLDAiQSb3jkBSqA+WZOTBzimM3MSGE5XIN7divpOnL4AFRiSMRq3CvPEmZFU2Y0tWteg4RBdNkiQs2ZqHxFAfTO4d4fT1WGBEAv2hXxRigryxJCMXksQpjJRtS2Y1MiuaMG+cCRq1c6cvgAVGJJRWo8bccSYcLW3Ej7k1ouMQXTBJkrA4IxcxQd6Y2j/KJWuywIgEmz4wGpEBBizmFEYK9mNuDY6WNmLuOBO0GtdUCwuMSDAvrQZzLknE/qJ67C2oEx2H6IIsychDZIAB0wdGu2xNFhiRDNwwNBYhvl5YnJErOgrRedtbUIt9RXW4Z2wSvLQal63LAiOSAYPuzBS2O78WB4s5hZGyLM7IRYivF64fEuPSdVlgRDJx8/BYBPno8eaWPNFRiM7ZweJ67Mqrxd2XJMCgc930BbDAiGTDqNfiztEJ2J5jxtGSBtFxiM7J4oxcBPnoccvwOJevzQIjkpHbRsQhwFuHxRmcwkj+jpY0YFu2GXeNSYBRr3X5+iwwIhnxM+gwa1QCNmdW4WR5o+g4RL9pcUYuAo063DYiXsj6LDAimZk5Kh5+Xlos5ndhJGMnyhqxObMas0YlwNfL9dMXwAIjkp0Abx3uGBWPDScrkVXZJDoO0S9akpEHP4MWt4+MF5aBBUYkQ7NGn/m/Wn4XRnKUVdmEDScrccfIeAR464TlYIERyVCgUY/bR8Zh/fEK5FY1i45D9F/e3JILXy8tZo1OEJqDBUYkU3eOToS3TsMpjGQlu7IZ649XYubIeAQa9UKzqM1ms9AARPTLgnz0uG1EPNYeK0deNacwkoc3M85MX3cKnr4AQB0aGio6AxH9itljEjiFkWzkVjVj/fEK3D4yDt18xE5fAB8hEslasK8XbhsRj2+PliOvukV0HPJwb2bkwajT4K7RiaKjAGCBEcne/09hPKmexMmrbsZ3x8px28h4WUxfAAuMSPbOTmFrOYWRQIs258Ko02D2GHlMXwALjEgRZo85c9L3Ek5hJEBOVTPWHa/A7SPjESST6QtggREpAr8LI5He2JwLH71WVtMXwAIjUoyzU9ibWziFketkVTZh3fEKzJTRd19nscCIFCLY1wszR555LyyHp3OQi7yxORd+XlrcNUb8e18/xwIjUpDZYxLho9di0eYc0VHIA2RWNOH7E5W4Y5T4Uzd+CQuMSEG6+egxa1Q81h+vxKlynlRPzrVwUw78DFrcKZP3vn6OBUakMHeOToSfgVMYOdex0gZsOlWF2WMSEWAUd+L8b2GBESlMgFGHu0Yn4odTVTheylubyTkWbspBoPHM3XRyxQIjUqA7Rp+5h2nhpmzRUcgNHSyuw7ZsM+4ZmwQ/gzynL4AFRqRI/gYd5oxNxNZsMw4W14mOQ27m9R9yEOKrx20j4kRH+U0sMCKFmjkyHiG+ery6MRuSJImOQ25iT34tdufX4t5xJhj1WtFxfhMLjEihjHot5o4zYW9BHXbn14qOQ25AkiS89kM2IvwNuHlYrOg4v4sFRqRgNw2LRWSAgVMYOcTW7GocLK7H/ROSYdBpRMf5XSwwIgUz6DS4Lz0ZR0oasCWzWnQcUjC7XcKrG3MQF2zEjMHdRcc5JywwIoWbMbg74oKNeO2HbNjtnMLowqw7XoHMiiY8PKkHdBplVIMyUhLRr9Jp1Hh4Ug9kVTZj7bFy0XFIgaw2OxZuykFKuB+m9I0SHeecscCI3MCUvlHoGemP13/IQafVLjoOKcyaQ6UorGnFI5f2gFqtEh3nnLHAiNyAWq3C45el4HRdG1YfKBEdhxSko8uGRZtz0T8mEJPSwkXHOS8sMCI3MS4lFEPiu+HNLblo77SJjkMK8dGeIlQ0duCJyalQqZQzfQEsMCK3oVKp8PjkVJibLVi5q1B0HFKAxvYuLN2aj7E9QjEiKVh0nPPGAiNyI0PigzAhNQzLt+ejvrVTdBySube356OxvQuPT04RHeWCsMCI3Mzjk1PRarFi6dY80VFIxqqaOrByVyGm9o9Cr6gA0XEuCAuMyM2kRPjhmoHd8dGeYpTUtYmOQzL1xpZc2OwSHpmkzOkLYIERuaWHL+0BlQr4+yZeekn/K6+6Gav3l+DmYXGIDTaKjnPBWGBEbigywBt3jErAV0fKcKq8SXQckpm/fZ8Fo06D+ycki45yUVhgRG7q3nFJCPDW4aXvM0VHIRnZW1CLzZnVuHd8EoJ89KLjXBQWGJGbCvDWYf54E37MrcH2HLPoOCQDdruEF9dnIjLAgFmjEkTHuWhqs5n/YhO5q9tGxCMu2IgX12XCxoN+Pd53xytwrLQRj1yaoojrUn6POjQ0VHQGInISvVaNJyanIruqGf/kEVMeraPLhlc2ZCE1wg9XD4gWHcch+AiRyM1d3jsCg+O64fUfctBisYqOQ4K8v6sIpfXtePqqNGgUdGDvb2GBEbk5lUqFp67siZoWC97eni86DglgbrZg6dY8TOwZhlGmENFxHIYFRuQBBsR2w1V9I7FiRwHKGtpFxyEXW7gpBx1dNjx5RU/RURyKBUbkIf54eSqAM+8AkefIqmzC6v2nccvwOCSF+oqO41AsMCIP0b2bEXMuScTao+U4UFQnOg65gCRJeGFdJvwMOjw4UdkvLf8SFhiRB7lnXBIi/A3469pTsHNbvdvbdKoKP+bW4MGJyQg0Kvul5V/CAiPyIEa9Fk9cnoLjZY344lCp6DjkRB1dNixYl4nkMF/cMjxOdBynYIEReZip/aIxIDYQr2zIRnNHl+g45CTv7SzE6bo2PDOlF3Qa9/xR756/KyL6VWq1Cs9O6YXaVgve3JIrOg45QUVjO5Zk5GFyrwiMTnafbfM/xwIj8kD9YgJx/eAYvL+rCLlVzaLjkIO9tD4LdknCU1e617b5n2OBESNAUwQAAApXSURBVHmoxyenwsdLi2e+PQlJ4oYOd7G3oBbfHi3HnEsSEROk3Lu+zgULjMhDBfno8eilPbA7vxbrj1eKjkMO0GWz4+mvT6B7N2/cO84kOo7TscCIPNhNw+KQFumPBetOoZXnJCreyp2FyK1uwbNTesFbr/zT5n8PC4zIg2nUKjw/rRcqGjvwBjd0KFpFYzve2JKLiT3DMDEtXHQcl2CBEXm4QXFBuHFoDN7bWYhT5U2i49AFev67U7BLEp6Z0kt0FJdhgRERnpicigBvHZ76+jhP6FCgbdnVWH+8EvPHm9x+48Z/YoEREQKNejx1RU8cPt2AVftPi45D56Gt04o/f30CpjBfzL4kUXQcl2KBEREAYPrAaAxPDMLL32fB3GwRHYfO0aLNuSitb8dL0/vAS+v+Gzf+EwuMiACcufhywbQ+6Oiy49m1J0XHoXNwoqwR7+0sxI1DYzEkPkh0HJdjgRHRv5nCfHFfugnrjlXgh5N8N0zObHYJT355HEE++n/f9eZpWGBE9F/mjE1CaoQfnv7mBJp42K9srdxZiONljXhmShoCvHWi4wjBAiOi/6LXqvHyNX1hbrbgpfW8vVmOCswteO2HbEzsGY4r+0SKjiMMC4yI/ke/mEDcOToBq/adxu78GtFx6D/Y7RKeWHMMBp0GL17dGyqVSnQkYVhgRPSLHp6UgvhgIx7/4hhaeMyUbHy4pwj7i+rxl6vSEOZvEB1HKBYYEf0ib70Gr83oh7KGdry4PlN0HAJQXNuKVzZkIz01DNMHRouOIxwLjIh+1eD4IMwek4hPfzqN7Tlm0XE8ms0u4dHPj0KrUeHFq/t49KPDs1hgRPSbHp7UA6YwXzzxxTE0tnNXoigrdhRgf1E9npvaCxEBnv3o8CwWGBH9JoNOg9dn9IO5xYJnv+ULziKcLG/Ewk3ZuLJPJKb156PDs1hgRPS7+sUEYv54E746XIZvjpSJjuNROrpseGj1EXQz6rFgmmfvOvw5FhgRnZP70k0YFNcNf/7qBErq2kTH8RivbMhGTlULXp3RD9189KLjyAoLjIjOiVajxqLr+wMAHlp9BFabXXAi95eRVYWVuwpx+4g4jO0RKjqO7KjNZu4sIqJzExNkxPPTeuNAcT2WbM0THcetVTZ24NHPj6FnpD+evKKn6DiypA4NZasT0bmbNiAaVw+IxptbcnlKh5PY7BIeXH0YHV02LLlpAAw6z7om5VzxESIRnbcF03ojIcQH9686gurmDtFx3M6SjDzsLajDc1N7IynUV3Qc2WKBEdF58/HSYtnNg9Bi6cIDq47AZpdER3IbO3LMWLQlB1cPiMY1PG3jN7HAiOiCpET4YcG0PthTUItFm3NEx3ELpfVteOCzw+gR5ocXPPyg3nPBAiOiC3btoO64bnB3LM7Iw0ZegHlROrpsmPvJIVhtEpbfOghGvVZ0JNljgRHRRXluam/06x6Ah1cfQW5Vs+g4iiRJEp799iSOlTbi9ev6ISHER3QkRWCBEdFFMeg0WH7rIHjrtZj90QGel3gBPtxdhM/2l2De+CRc2itCdBzFYIER0UWLDPDG8lsGoqyhHfevOsyXnM/DjhwznvvuFCalheORSSmi4ygKC4yIHGJwfBCem9ob23PM+OvaU5Ak7kz8PXnVLZj36SGkRPhj0fX9oVZz08b54LeEROQwNw6NRVFNK97eUYC4YCPuGpMoOpJs1bZYcNeH++GlVePd2wfDx4s/js8X/8SIyKGemJyKkvo2vLA+E9GB3ri8T6ToSLLTarFi1gf7UdHYgU9nD0d0oLfoSIrER4hE5FBqtQoLr+uPATGBeHD1EfxUUCs6kqx02eyY9+khHC9rxJKbBmJQXDfRkRSLBUZEDmfQafDObYPRvZs37vzwAI6XNoqOJAuSJOGJNcewLduMF67ug0lp4aIjKRoLjIicItjXC/+4axgCvHW4/f19yKv27HfEzr7r9eWhMjw0sQduHBorOpLiscCIyGkiA7zxj7uGQa1S4ZZ39+F0rWdehClJEhasy8SHe4px1+gE3D/BJDqSW2CBEZFTJYT44OM7h6LDasP1K/agsKZVdCSXkiQJL2/Ixns7CzFzZDyeurInzzh0EBYYETldz0h/fHrXcFisdlz/9h6PeZwoSRJe+j4Ly7fn4+ZhsXhmShrLy4FYYETkEmlR/vjs7uGwS8ANK/Yis6JJdCSnstrseGLNMazYUYBbh8fh+ak8Xd7RWGBE5DI9wv2wes5waNVqXLd8D3bnueeNzharDfM/PYx/HijF/ekmPDe1F0/ZcAIWGBG5VFKoL76cOxKRgQbc/v4+fH24THQkh6pr7cSt7+3DhpOVePqqNDx8aQonLydhgRGRy0UFeuPze0ZiUFw3PLj6CN7YnAu7G9zqnFvVjKlLd+JISQPeuKE/7hydIDqSW2OBEZEQAd46fDhrKKYPiMbfN+fg7o8PoKlDuVexbMmswvRlu9HRZcfqu4djav9o0ZHcHguMiITx0mrw+nX98Nc/9MK2bDOmLtmFrEplbe7otNrxwrpTuPPDA4gNNuKbeaMwIJbHQ7kCC4yIhFKpVLh9ZDxW3T0cLRYr/rBkF979sUARjxRL6tow4+09eOfHQtw6PA5r7h2JKB7M6zKqQYMGSQcOHBCdg4gI5mYLnvzyODZnVmFYQhBem9EPMUFG0bH+h80u4aM9RXh1YzY0ahVeuaYvT90XgAVGRLIiSRI+P1iK59aegs0uYX66CXeNSYCXViM6GgAgu7IZT6w5hiMlDRiXEooF03qjezf5lawnYIERkSyV1rfh+e9OYePJKsQHG/HnK9MwoWeYsC3pVU0dWLQ5B6v3lyDQqMczU9Lwh35R3CIvEAuMiGRtR44Zz649iQJzK/p1D8B96ckuLbLq5g58sKsIK3cVwmaXcMvwONyXnowgH71L1qdfxwIjItnrtNrx5aFSLN2Wh5K6dvSM9Mctw2MxpV8U/A06p6x5oqwR7+8qwtqj5eiy2zGlbxQevTQFscF8XCgXLDAiUowumx3fHCnHuz8WIKuyGQadGlf0icRlvSIwyhQCXy/tRX1+gbkF3x2rwLpjFciuaoZRr8GMQd0xc1QCEkJ8HPS7IEdhgRGR4kiShGOljfhsfwm+O1qOZosVOo0Kg+OCMCA2ED0j/dEz0g/RgUZ46/9384fNLqGqqQMldW3IqWrGgeJ6HCiqR1lDO1QqYEhcEK7sG4lp/aMRYHTOhEcXjwVGRIrWabXjYHE9tuVU48ecGuRUNcP6H++QGXRqBPt4QadRodNqR6fNjsb2LnTZ/v/vCff3wpD4IAxNCMKlaRGICDCI+K3QeVLFxsZKxcXFonMQETmExWpDfnUrsiqbUNnUgfrWTtS1dsFqt0OnUUOvVcPfoENMkDdig4xICPFBdKA3dxMqkDY0NFR0BiIih/HSapAW5Y+0KH/RUcjJeJQUEREpEguMiIgUiQVGRESKxAIjIiJFYoEREZEiscCIiEiRWGBERKRILDAiIlIkFhgRESkSC4yIiBSJBUZERIr0f2qUaGDenCZuAAAAAElFTkSuQmCC' width=432.0/>\n",
       "            </div>\n",
       "        "
      ],
      "text/plain": [
       "Canvas(toolbar=Toolbar(toolitems=[('Home', 'Reset original view', 'home', 'home'), ('Back', 'Back to previous …"
      ]
     },
     "metadata": {},
     "output_type": "display_data"
    }
   ],
   "source": [
    "import matplotlib as mpl\n",
    "import matplotlib.pyplot as plt\n",
    "import numpy as np\n",
    "import math\n",
    "\n",
    "# %matplotlib inline\n",
    "%matplotlib widget\n",
    "x = np.arange(0, math.pi*2, 0.05)\n",
    "y = np.sin(x)\n",
    "fig = plt.figure()\n",
    "ax = fig.add_axes([0,0,1,1])\n",
    "ax.plot(x,y)\n",
    "ax.set_title(\"sine_wave\")\n",
    "ax.set_xlabel(\"angle\")\n",
    "ax.set_ylabel(\"sine\")"
   ]
  },
  {
   "cell_type": "code",
   "execution_count": null,
   "id": "4d3b1b5a",
   "metadata": {},
   "outputs": [],
   "source": [
    "import ipywidgets as widgets\n",
    "w = widgets.IntSlider()\n",
    "display(w)"
   ]
  }
 ],
 "metadata": {
  "celltoolbar": "Slideshow",
  "hide_input": false,
  "kernelspec": {
   "display_name": "Python 3 (ipykernel)",
   "language": "python",
   "name": "python3"
  },
  "language_info": {
   "codemirror_mode": {
    "name": "ipython",
    "version": 3
   },
   "file_extension": ".py",
   "mimetype": "text/x-python",
   "name": "python",
   "nbconvert_exporter": "python",
   "pygments_lexer": "ipython3",
   "version": "3.8.10"
  },
  "toc": {
   "base_numbering": 1,
   "nav_menu": {},
   "number_sections": true,
   "sideBar": true,
   "skip_h1_title": false,
   "title_cell": "Table of Contents",
   "title_sidebar": "Contents",
   "toc_cell": false,
   "toc_position": {},
   "toc_section_display": true,
   "toc_window_display": false
  },
  "varInspector": {
   "cols": {
    "lenName": 16,
    "lenType": 16,
    "lenVar": 40
   },
   "kernels_config": {
    "python": {
     "delete_cmd_postfix": "",
     "delete_cmd_prefix": "del ",
     "library": "var_list.py",
     "varRefreshCmd": "print(var_dic_list())"
    },
    "r": {
     "delete_cmd_postfix": ") ",
     "delete_cmd_prefix": "rm(",
     "library": "var_list.r",
     "varRefreshCmd": "cat(var_dic_list()) "
    }
   },
   "types_to_exclude": [
    "module",
    "function",
    "builtin_function_or_method",
    "instance",
    "_Feature"
   ],
   "window_display": false
  }
 },
 "nbformat": 4,
 "nbformat_minor": 5
}
